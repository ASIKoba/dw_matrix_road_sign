{
  "nbformat": 4,
  "nbformat_minor": 0,
  "metadata": {
    "colab": {
      "name": "day5tr3",
      "provenance": [],
      "collapsed_sections": [],
      "mount_file_id": "1royRFObCbgKXsSaKMofgG6Y0shIXnjYX",
      "authorship_tag": "ABX9TyP7ODSeG4oGl8g/kPGmBcW8",
      "include_colab_link": true
    },
    "kernelspec": {
      "name": "python3",
      "display_name": "Python 3"
    },
    "accelerator": "GPU"
  },
  "cells": [
    {
      "cell_type": "markdown",
      "metadata": {
        "id": "view-in-github",
        "colab_type": "text"
      },
      "source": [
        "<a href=\"https://colab.research.google.com/github/ASIKoba/dw_matrix_road_sign/blob/master/day5tr3.ipynb\" target=\"_parent\"><img src=\"https://colab.research.google.com/assets/colab-badge.svg\" alt=\"Open In Colab\"/></a>"
      ]
    },
    {
      "cell_type": "code",
      "metadata": {
        "id": "lPHmYnwbU6je",
        "colab_type": "code",
        "outputId": "14b9315d-1ae5-4b0c-ab98-acef8247513a",
        "colab": {
          "base_uri": "https://localhost:8080/",
          "height": 34
        }
      },
      "source": [
        "cd '/content/drive/My Drive/Colab Notebooks/matrix/matrix_three/dw_matrix_road_sign'\n"
      ],
      "execution_count": 9,
      "outputs": [
        {
          "output_type": "stream",
          "text": [
            "/content/drive/My Drive/Colab Notebooks/matrix/matrix_three/dw_matrix_road_sign\n"
          ],
          "name": "stdout"
        }
      ]
    },
    {
      "cell_type": "code",
      "metadata": {
        "id": "9qRMWIONVGEE",
        "colab_type": "code",
        "colab": {}
      },
      "source": [
        "#dzisiaj jest tematem dobór parametrów\n"
      ],
      "execution_count": 0,
      "outputs": []
    },
    {
      "cell_type": "code",
      "metadata": {
        "id": "CYBJ4eM2Vwoy",
        "colab_type": "code",
        "colab": {
          "base_uri": "https://localhost:8080/",
          "height": 51
        },
        "outputId": "0486b459-d83f-451b-9c84-d0fab773f451"
      },
      "source": [
        "import pandas as pd\n",
        "import numpy as np\n",
        "import os\n",
        "import datetime\n",
        "\n",
        "\n",
        "import tensorflow as tf\n",
        "from tensorflow.keras.models import Sequential\n",
        "from tensorflow.keras.layers import Conv2D, MaxPool2D, Dense, Flatten, Dropout\n",
        "from tensorflow.keras.utils import to_categorical\n",
        "import matplotlib.pyplot as plt\n",
        "from skimage import color, exposure\n",
        "\n",
        "from sklearn.metrics import accuracy_score \n",
        "%load_ext tensorboard\n",
        "from hyperopt import hp,STATUS_OK, tpe, Trials, fmin "
      ],
      "execution_count": 32,
      "outputs": [
        {
          "output_type": "stream",
          "text": [
            "The tensorboard extension is already loaded. To reload it, use:\n",
            "  %reload_ext tensorboard\n"
          ],
          "name": "stdout"
        }
      ]
    },
    {
      "cell_type": "code",
      "metadata": {
        "id": "ISgH7N8RVnCd",
        "colab_type": "code",
        "outputId": "f69ac200-6e94-4178-e18f-d9ff132e6d3f",
        "colab": {
          "base_uri": "https://localhost:8080/",
          "height": 34
        }
      },
      "source": [
        "ls data"
      ],
      "execution_count": 11,
      "outputs": [
        {
          "output_type": "stream",
          "text": [
            "signnames.csv  test.p  train.p\n"
          ],
          "name": "stdout"
        }
      ]
    },
    {
      "cell_type": "code",
      "metadata": {
        "id": "xuAoXmcOWZ8k",
        "colab_type": "code",
        "colab": {}
      },
      "source": [
        "train =pd.read_pickle('data/train.p')\n",
        "test =pd.read_pickle('data/test.p')\n",
        "\n",
        "X_train, y_train = train['features'], train['labels']\n",
        "X_test, y_test = test['features'], test['labels']"
      ],
      "execution_count": 0,
      "outputs": []
    },
    {
      "cell_type": "code",
      "metadata": {
        "id": "ItjJuBTHXfrW",
        "colab_type": "code",
        "colab": {}
      },
      "source": [
        "from google.colab import drive\n",
        "drive.mount('/content/drive')"
      ],
      "execution_count": 0,
      "outputs": []
    },
    {
      "cell_type": "code",
      "metadata": {
        "id": "L-jKVAlQWcXr",
        "colab_type": "code",
        "colab": {}
      },
      "source": [
        "if y_train.ndim==1: y_train=to_categorical(y_train) \n",
        "if y_test.ndim==1: y_test=to_categorical(y_test) "
      ],
      "execution_count": 0,
      "outputs": []
    },
    {
      "cell_type": "code",
      "metadata": {
        "id": "_OW-AGOCaF7N",
        "colab_type": "code",
        "colab": {}
      },
      "source": [
        "input_shape = X_train.shape[1:]\n",
        "num_classes =y_train.shape[1]"
      ],
      "execution_count": 0,
      "outputs": []
    },
    {
      "cell_type": "code",
      "metadata": {
        "id": "FKlOXXboaPt7",
        "colab_type": "code",
        "colab": {}
      },
      "source": [
        "def train_model(get_model, X_train, y_train, params_fit={}):\n",
        "    model.compile(loss='categorical_crossentropy', optimizer ='Adam', metrics=['accuracy'])\n",
        "\n",
        "    logdir =os.path.join(\"logs\", datetime.datetime.now().strftime(\"%Y%m%d-%H%M%S\"))\n",
        "    tensorboard_callback =tf.keras.callbacks.TensorBoard(logdir, histogram_freq=1)\n",
        "\n",
        "\n",
        "    model.fit(\n",
        "        X_train, \n",
        "        y_train,\n",
        "        batch_size=params_fit.get('batch_size',128),  #dzielimy na paczki , które służa do uczenia się \n",
        "        epochs=params_fit.get('epochs',5), # epoki, liczba iteracji przezktóre przepuszczamy wszystkie dane\n",
        "        verbose=params_fit.get('verbose',1), #wypisujemy jaki mamy stan\n",
        "        validation_data=params_fit.get('validation_data',(X_train,y_train)), #obserwowanie na ile model sie wyuczył\n",
        "        callbacks=[tensorboard_callback]\n",
        "        )\n",
        "    return model\n"
      ],
      "execution_count": 0,
      "outputs": []
    },
    {
      "cell_type": "code",
      "metadata": {
        "id": "0dWpuGzIabCC",
        "colab_type": "code",
        "colab": {}
      },
      "source": [
        "def predict(model_trained,X_test,y_test, scoring =accuracy_score ):\n",
        "\n",
        "  y_test_norm = np.argmax(y_test, axis=1)\n",
        "\n",
        "  y_pred_prob = model_trained.predict(X_test)\n",
        "  y_pred = np.argmax(y_pred_prob, axis=1)\n",
        "\n",
        "  return scoring(y_test_norm, y_pred)\n"
      ],
      "execution_count": 0,
      "outputs": []
    },
    {
      "cell_type": "code",
      "metadata": {
        "id": "oZbmiy2eamM6",
        "colab_type": "code",
        "colab": {}
      },
      "source": [
        "def train_and_predict(model):\n",
        "  model_trained = train_model(model,X_train,y_train)\n",
        "  return predict(model_trained,X_test, y_test)"
      ],
      "execution_count": 0,
      "outputs": []
    },
    {
      "cell_type": "code",
      "metadata": {
        "id": "tbrBJqvkazR6",
        "colab_type": "code",
        "colab": {}
      },
      "source": [
        "def get_cnn_v5(input_shape, num_classes):\n",
        "  return Sequential([\n",
        "                    Conv2D(filters=32,kernel_size=(3,3),activation='relu', input_shape = input_shape),\n",
        "                    Conv2D(filters=32,kernel_size=(3,3),activation='relu',padding ='same'),\n",
        "                    MaxPool2D(),\n",
        "                    Dropout(0.3), \n",
        "\n",
        "                    Conv2D(filters=64,kernel_size=(3,3),activation='relu', padding ='same'),\n",
        "                    Conv2D(filters=64,kernel_size=(3,3),activation='relu'),\n",
        "                    MaxPool2D(),\n",
        "                    Dropout(0.3),\n",
        "                    \n",
        "                    Conv2D(filters=64,kernel_size=(3,3),activation='relu', padding ='same'),\n",
        "                    Conv2D(filters=64,kernel_size=(3,3),activation='relu'),\n",
        "                    MaxPool2D(),\n",
        "                    Dropout(0.3),\n",
        "                     \n",
        "                    Flatten(),\n",
        "                     \n",
        "                    Dense(1024, activation='relu'), \n",
        "                    Dropout(0.3), \n",
        "                     \n",
        "                    Dense(1024, activation='relu'), \n",
        "                    Dropout(0.3), \n",
        "\n",
        "                    Dense(num_classes, activation='softmax'),\n",
        "                    ])\n",
        "  \n",
        "\n",
        "#train_and_predict(get_cnn_v4(input_shape, num_classes) )  "
      ],
      "execution_count": 0,
      "outputs": []
    },
    {
      "cell_type": "code",
      "metadata": {
        "id": "6bJJbi9bbjXa",
        "colab_type": "code",
        "colab": {}
      },
      "source": [
        "X_train_gray =color.rgb2gray(X_train).reshape(-1,32,32,1)\n",
        "X_test_gray =color.rgb2gray(X_test).reshape(-1,32,32,1)"
      ],
      "execution_count": 0,
      "outputs": []
    },
    {
      "cell_type": "code",
      "metadata": {
        "id": "15yvpWBca8rp",
        "colab_type": "code",
        "colab": {
          "base_uri": "https://localhost:8080/",
          "height": 714
        },
        "outputId": "4f0400f3-484f-4e4a-bd72-f88e511780f3"
      },
      "source": [
        "model = get_cnn_v5((32,32,1), num_classes)\n",
        "params_fit={\n",
        "    'epochs':20\n",
        "}\n",
        "model_trained = train_model(model, X_train_gray, y_train, params_fit)\n",
        "predict(model_trained, X_test_gray, y_test)"
      ],
      "execution_count": 21,
      "outputs": [
        {
          "output_type": "stream",
          "text": [
            "Epoch 1/20\n",
            "272/272 [==============================] - 5s 19ms/step - loss: 2.4476 - accuracy: 0.3007 - val_loss: 0.8264 - val_accuracy: 0.7374\n",
            "Epoch 2/20\n",
            "272/272 [==============================] - 5s 17ms/step - loss: 0.5687 - accuracy: 0.8156 - val_loss: 0.1339 - val_accuracy: 0.9574\n",
            "Epoch 3/20\n",
            "272/272 [==============================] - 5s 17ms/step - loss: 0.2465 - accuracy: 0.9205 - val_loss: 0.0644 - val_accuracy: 0.9816\n",
            "Epoch 4/20\n",
            "272/272 [==============================] - 5s 17ms/step - loss: 0.1574 - accuracy: 0.9500 - val_loss: 0.0354 - val_accuracy: 0.9905\n",
            "Epoch 5/20\n",
            "272/272 [==============================] - 5s 17ms/step - loss: 0.1205 - accuracy: 0.9605 - val_loss: 0.0300 - val_accuracy: 0.9915\n",
            "Epoch 6/20\n",
            "272/272 [==============================] - 5s 17ms/step - loss: 0.0950 - accuracy: 0.9714 - val_loss: 0.0154 - val_accuracy: 0.9958\n",
            "Epoch 7/20\n",
            "272/272 [==============================] - 5s 17ms/step - loss: 0.0848 - accuracy: 0.9728 - val_loss: 0.0216 - val_accuracy: 0.9928\n",
            "Epoch 8/20\n",
            "272/272 [==============================] - 5s 17ms/step - loss: 0.0671 - accuracy: 0.9795 - val_loss: 0.0110 - val_accuracy: 0.9970\n",
            "Epoch 9/20\n",
            "272/272 [==============================] - 5s 17ms/step - loss: 0.0650 - accuracy: 0.9800 - val_loss: 0.0100 - val_accuracy: 0.9970\n",
            "Epoch 10/20\n",
            "272/272 [==============================] - 5s 17ms/step - loss: 0.0605 - accuracy: 0.9813 - val_loss: 0.0109 - val_accuracy: 0.9968\n",
            "Epoch 11/20\n",
            "272/272 [==============================] - 5s 17ms/step - loss: 0.0574 - accuracy: 0.9823 - val_loss: 0.0070 - val_accuracy: 0.9981\n",
            "Epoch 12/20\n",
            "272/272 [==============================] - 5s 17ms/step - loss: 0.0485 - accuracy: 0.9857 - val_loss: 0.0063 - val_accuracy: 0.9978\n",
            "Epoch 13/20\n",
            "272/272 [==============================] - 5s 17ms/step - loss: 0.0508 - accuracy: 0.9845 - val_loss: 0.0039 - val_accuracy: 0.9991\n",
            "Epoch 14/20\n",
            "272/272 [==============================] - 5s 17ms/step - loss: 0.0448 - accuracy: 0.9866 - val_loss: 0.0047 - val_accuracy: 0.9988\n",
            "Epoch 15/20\n",
            "272/272 [==============================] - 5s 17ms/step - loss: 0.0442 - accuracy: 0.9875 - val_loss: 0.0025 - val_accuracy: 0.9994\n",
            "Epoch 16/20\n",
            "272/272 [==============================] - 5s 17ms/step - loss: 0.0433 - accuracy: 0.9870 - val_loss: 0.0030 - val_accuracy: 0.9991\n",
            "Epoch 17/20\n",
            "272/272 [==============================] - 5s 17ms/step - loss: 0.0408 - accuracy: 0.9881 - val_loss: 0.0031 - val_accuracy: 0.9991\n",
            "Epoch 18/20\n",
            "272/272 [==============================] - 5s 17ms/step - loss: 0.0400 - accuracy: 0.9879 - val_loss: 0.0062 - val_accuracy: 0.9981\n",
            "Epoch 19/20\n",
            "272/272 [==============================] - 5s 17ms/step - loss: 0.0409 - accuracy: 0.9876 - val_loss: 0.0036 - val_accuracy: 0.9990\n",
            "Epoch 20/20\n",
            "272/272 [==============================] - 5s 17ms/step - loss: 0.0341 - accuracy: 0.9899 - val_loss: 0.0021 - val_accuracy: 0.9994\n"
          ],
          "name": "stdout"
        },
        {
          "output_type": "execute_result",
          "data": {
            "text/plain": [
              "0.9786848072562359"
            ]
          },
          "metadata": {
            "tags": []
          },
          "execution_count": 21
        }
      ]
    },
    {
      "cell_type": "code",
      "metadata": {
        "id": "lR-kbMSDe1BO",
        "colab_type": "code",
        "colab": {
          "base_uri": "https://localhost:8080/",
          "height": 51
        },
        "outputId": "736a413f-56e5-400f-f5dc-df6491820285"
      },
      "source": [
        "model_trained.evaluate(X_test,y_test)[1]"
      ],
      "execution_count": 37,
      "outputs": [
        {
          "output_type": "stream",
          "text": [
            "138/138 [==============================] - 0s 4ms/step - loss: 0.2076 - accuracy: 0.9669\n"
          ],
          "name": "stdout"
        },
        {
          "output_type": "execute_result",
          "data": {
            "text/plain": [
              "0.9668934345245361"
            ]
          },
          "metadata": {
            "tags": []
          },
          "execution_count": 37
        }
      ]
    },
    {
      "cell_type": "code",
      "metadata": {
        "id": "SURMO1IDnHK1",
        "colab_type": "code",
        "colab": {}
      },
      "source": [
        "def get_model(params):\n",
        "  return Sequential([\n",
        "                    Conv2D(filters=32,kernel_size=(3,3),activation='relu', input_shape = input_shape),\n",
        "                    Conv2D(filters=32,kernel_size=(3,3),activation='relu',padding ='same'),\n",
        "                    MaxPool2D(),\n",
        "                    Dropout(params['dropout_cnn_block_one']), \n",
        "\n",
        "                    Conv2D(filters=64,kernel_size=(3,3),activation='relu', padding ='same'),\n",
        "                    Conv2D(filters=64,kernel_size=(3,3),activation='relu'),\n",
        "                    MaxPool2D(),\n",
        "                    Dropout(params['dropout_cnn_block_two']),\n",
        "                    \n",
        "                    Conv2D(filters=128,kernel_size=(3,3),activation='relu', padding ='same'),\n",
        "                    Conv2D(filters=128,kernel_size=(3,3),activation='relu'),\n",
        "                    MaxPool2D(),\n",
        "                    Dropout(params['dropout_cnn_block_three']),\n",
        "                     \n",
        "                    Flatten(),\n",
        "                     \n",
        "                    Dense(1024, activation='relu'), \n",
        "                    Dropout(params['dropout_dense_block_one']),\n",
        "                     \n",
        "                    Dense(1024, activation='relu'), \n",
        "                    Dropout(params['dropout_dense_block_two']),\n",
        "\n",
        "                    Dense(num_classes, activation='softmax'),\n",
        "                    ])\n",
        "  \n"
      ],
      "execution_count": 0,
      "outputs": []
    },
    {
      "cell_type": "code",
      "metadata": {
        "id": "gccp3xWJbNWn",
        "colab_type": "code",
        "colab": {}
      },
      "source": [
        "def func_obj(params):\n",
        "  #model = get_cnn_v5(input_shape, num_classes)\n",
        "  model=get_model(params)\n",
        "  model.compile(loss='categorical_crossentropy', optimizer='Adam', metrics = ['accuracy'])\n",
        "\n",
        "  model.fit(\n",
        "        X_train, \n",
        "        y_train,\n",
        "        batch_size=int(params.get('batch_size',128)),  #dzielimy na paczki , które służa do uczenia się \n",
        "        epochs=5, # epoki, liczba iteracji przezktóre przepuszczamy wszystkie dane, było 7\n",
        "        verbose=0\n",
        "        )\n",
        "  score = model.evaluate(X_test,y_test, verbose=0)\n",
        "  accuracy = score[1]\n",
        "  print(params, 'accuracy={}'.format(accuracy))\n",
        "\n",
        "  return {'loss':-accuracy, 'status':STATUS_OK, 'model':model}\n"
      ],
      "execution_count": 0,
      "outputs": []
    },
    {
      "cell_type": "code",
      "metadata": {
        "id": "fxoD293Giud7",
        "colab_type": "code",
        "colab": {}
      },
      "source": [
        ""
      ],
      "execution_count": 0,
      "outputs": []
    },
    {
      "cell_type": "code",
      "metadata": {
        "id": "hw8fUABvfo2a",
        "colab_type": "code",
        "colab": {
          "base_uri": "https://localhost:8080/",
          "height": 204
        },
        "outputId": "fb92ce78-7ec9-43e9-a62d-e496821246d1"
      },
      "source": [
        "model = get_cnn_v5(input_shape, num_classes)\n",
        "\n",
        "model_trained = train_model(model, X_train, y_train)\n",
        "predict(model_trained, X_test, y_test)"
      ],
      "execution_count": 25,
      "outputs": [
        {
          "output_type": "stream",
          "text": [
            "Epoch 1/5\n",
            "272/272 [==============================] - 5s 19ms/step - loss: 2.5263 - accuracy: 0.3088 - val_loss: 1.1321 - val_accuracy: 0.6742\n",
            "Epoch 2/5\n",
            "272/272 [==============================] - 5s 17ms/step - loss: 0.8722 - accuracy: 0.7243 - val_loss: 0.2481 - val_accuracy: 0.9225\n",
            "Epoch 3/5\n",
            "272/272 [==============================] - 5s 17ms/step - loss: 0.4115 - accuracy: 0.8744 - val_loss: 0.1160 - val_accuracy: 0.9656\n",
            "Epoch 4/5\n",
            "272/272 [==============================] - 5s 17ms/step - loss: 0.2736 - accuracy: 0.9191 - val_loss: 0.0486 - val_accuracy: 0.9864\n",
            "Epoch 5/5\n",
            "272/272 [==============================] - 5s 17ms/step - loss: 0.2026 - accuracy: 0.9386 - val_loss: 0.0385 - val_accuracy: 0.9904\n"
          ],
          "name": "stdout"
        },
        {
          "output_type": "execute_result",
          "data": {
            "text/plain": [
              "0.9668934240362812"
            ]
          },
          "metadata": {
            "tags": []
          },
          "execution_count": 25
        }
      ]
    },
    {
      "cell_type": "code",
      "metadata": {
        "id": "CeJMhNpKgmis",
        "colab_type": "code",
        "colab": {}
      },
      "source": [
        "space = {\n",
        "    'batch_size': hp.quniform('batch_size', 50,200,20),\n",
        "    'dropout_cnn_block_one': hp.uniform('dropout_cnn_block_one',0,1),\n",
        "    'dropout_cnn_block_two': hp.uniform('dropout_cnn_block_two',0,1),\n",
        "    'dropout_cnn_block_three': hp.uniform('dropout_cnn_block_three',0,1),\n",
        "\n",
        "    'dropout_dense_block_one': hp.uniform('dropout_dense_block_one',0,1),\n",
        "    'dropout_dense_block_two': hp.uniform('dropout_dense_block_two',0,1),\n",
        "}"
      ],
      "execution_count": 0,
      "outputs": []
    },
    {
      "cell_type": "code",
      "metadata": {
        "id": "rhiz17zksR6H",
        "colab_type": "code",
        "colab": {}
      },
      "source": [
        ""
      ],
      "execution_count": 0,
      "outputs": []
    },
    {
      "cell_type": "code",
      "metadata": {
        "id": "TuAXX3whg7fU",
        "colab_type": "code",
        "colab": {
          "base_uri": "https://localhost:8080/",
          "height": 1000
        },
        "outputId": "2d51cc26-c37a-4268-bb68-24ee8856d2c6"
      },
      "source": [
        "best= fmin(\n",
        "    func_obj,\n",
        "    space,\n",
        "    tpe.suggest,\n",
        "    30,\n",
        "    Trials()\n",
        ")"
      ],
      "execution_count": 54,
      "outputs": [
        {
          "output_type": "stream",
          "text": [
            "{'batch_size': 140.0, 'dropout_cnn_block_one': 0.34531484478777247, 'dropout_cnn_block_three': 0.4339459276118087, 'dropout_cnn_block_two': 0.3378860485090417, 'dropout_dense_block_one': 0.6368698324280424, 'dropout_dense_block_two': 0.4188297827654853}\n",
            "accuracy=0.9585034251213074\n",
            "{'batch_size': 200.0, 'dropout_cnn_block_one': 0.3082467150023696, 'dropout_cnn_block_three': 0.4334038659638466, 'dropout_cnn_block_two': 0.41643226489152835, 'dropout_dense_block_one': 0.4266684326604927, 'dropout_dense_block_two': 0.6191700785218219}\n",
            "accuracy=0.9278911352157593\n",
            "{'batch_size': 190.0, 'dropout_cnn_block_one': 0.38876607587456175, 'dropout_cnn_block_three': 0.3908949348649574, 'dropout_cnn_block_two': 0.4644169242218541, 'dropout_dense_block_one': 0.33695847266550943, 'dropout_dense_block_two': 0.3785342262446913}\n",
            "accuracy=0.8981859683990479\n",
            "{'batch_size': 140.0, 'dropout_cnn_block_one': 0.44885169605869524, 'dropout_cnn_block_three': 0.3878630433025184, 'dropout_cnn_block_two': 0.3268396686696983, 'dropout_dense_block_one': 0.33651327561782585, 'dropout_dense_block_two': 0.48304842492927236}\n",
            "accuracy=0.9272108674049377\n",
            "{'batch_size': 160.0, 'dropout_cnn_block_one': 0.4639426919102866, 'dropout_cnn_block_three': 0.49975904434176466, 'dropout_cnn_block_two': 0.45101437000687916, 'dropout_dense_block_one': 0.5995678104466278, 'dropout_dense_block_two': 0.48921723359894553}\n",
            "accuracy=0.777550995349884\n",
            "{'batch_size': 130.0, 'dropout_cnn_block_one': 0.4410801574202692, 'dropout_cnn_block_three': 0.4001843559568108, 'dropout_cnn_block_two': 0.4264968831330664, 'dropout_dense_block_one': 0.5930327171133903, 'dropout_dense_block_two': 0.3911769053783407}\n",
            "accuracy=0.9469387531280518\n",
            "{'batch_size': 100.0, 'dropout_cnn_block_one': 0.48910741307808103, 'dropout_cnn_block_three': 0.3118779720896167, 'dropout_cnn_block_two': 0.3405648079166489, 'dropout_dense_block_one': 0.30731478335530615, 'dropout_dense_block_two': 0.34109290870330033}\n",
            "accuracy=0.8863945603370667\n",
            "{'batch_size': 190.0, 'dropout_cnn_block_one': 0.35419773439189695, 'dropout_cnn_block_three': 0.3052812664684191, 'dropout_cnn_block_two': 0.43682909980579787, 'dropout_dense_block_one': 0.677951040627637, 'dropout_dense_block_two': 0.5328719106395179}\n",
            "accuracy=0.8297052383422852\n",
            "{'batch_size': 190.0, 'dropout_cnn_block_one': 0.45366493207395275, 'dropout_cnn_block_three': 0.4261394518336847, 'dropout_cnn_block_two': 0.4669507595126225, 'dropout_dense_block_one': 0.5577268553538602, 'dropout_dense_block_two': 0.3225516366218809}\n",
            "accuracy=0.823356032371521\n",
            "{'batch_size': 200.0, 'dropout_cnn_block_one': 0.3129302454080903, 'dropout_cnn_block_three': 0.4609780163630555, 'dropout_cnn_block_two': 0.34990944518660305, 'dropout_dense_block_one': 0.48763333859277225, 'dropout_dense_block_two': 0.3210179481263639}\n",
            "accuracy=0.9537414908409119\n",
            "{'batch_size': 180.0, 'dropout_cnn_block_one': 0.4780163896994081, 'dropout_cnn_block_three': 0.4026948187637212, 'dropout_cnn_block_two': 0.30537363215744345, 'dropout_dense_block_one': 0.42198918046120015, 'dropout_dense_block_two': 0.6815900631257462}\n",
            "accuracy=0.8560090661048889\n",
            "{'batch_size': 150.0, 'dropout_cnn_block_one': 0.30237724025429247, 'dropout_cnn_block_three': 0.3137797225550661, 'dropout_cnn_block_two': 0.4554178370215136, 'dropout_dense_block_one': 0.3429359400358665, 'dropout_dense_block_two': 0.6005871696790942}\n",
            "accuracy=0.9467120170593262\n",
            "{'batch_size': 120.0, 'dropout_cnn_block_one': 0.30614101996285487, 'dropout_cnn_block_three': 0.4839878389439698, 'dropout_cnn_block_two': 0.4785437355979709, 'dropout_dense_block_one': 0.5486355874420524, 'dropout_dense_block_two': 0.5530670323164969}\n",
            "accuracy=0.8929705023765564\n",
            "{'batch_size': 150.0, 'dropout_cnn_block_one': 0.4417176386822431, 'dropout_cnn_block_three': 0.4754828454552085, 'dropout_cnn_block_two': 0.4012683810478876, 'dropout_dense_block_one': 0.44871586415937914, 'dropout_dense_block_two': 0.578332181031047}\n",
            "accuracy=0.8902494311332703\n",
            "{'batch_size': 160.0, 'dropout_cnn_block_one': 0.48666544908470316, 'dropout_cnn_block_three': 0.32476602507733054, 'dropout_cnn_block_two': 0.33637587677677366, 'dropout_dense_block_one': 0.6268132757649585, 'dropout_dense_block_two': 0.45307194675958}\n",
            "accuracy=0.9052154421806335\n",
            "{'batch_size': 150.0, 'dropout_cnn_block_one': 0.39756281893426754, 'dropout_cnn_block_three': 0.37934890479898253, 'dropout_cnn_block_two': 0.398873537480421, 'dropout_dense_block_one': 0.3828104054228672, 'dropout_dense_block_two': 0.48179722335373515}\n",
            "accuracy=0.9580498933792114\n",
            "{'batch_size': 110.0, 'dropout_cnn_block_one': 0.4128131373684049, 'dropout_cnn_block_three': 0.3614017472729192, 'dropout_cnn_block_two': 0.3814755715336345, 'dropout_dense_block_one': 0.6690488597536082, 'dropout_dense_block_two': 0.4199852614248294}\n",
            "accuracy=0.9099773168563843\n",
            "{'batch_size': 140.0, 'dropout_cnn_block_one': 0.30637809155354634, 'dropout_cnn_block_three': 0.48432753056870814, 'dropout_cnn_block_two': 0.49527001948173915, 'dropout_dense_block_one': 0.3470340552595756, 'dropout_dense_block_two': 0.3160675291735223}\n",
            "accuracy=0.9417233467102051\n",
            "{'batch_size': 140.0, 'dropout_cnn_block_one': 0.36713996091048046, 'dropout_cnn_block_three': 0.31968196223231543, 'dropout_cnn_block_two': 0.3984412398196335, 'dropout_dense_block_one': 0.6188076455596265, 'dropout_dense_block_two': 0.33174802343211296}\n",
            "accuracy=0.8816326260566711\n",
            "{'batch_size': 130.0, 'dropout_cnn_block_one': 0.3544708056315525, 'dropout_cnn_block_three': 0.44231438637464915, 'dropout_cnn_block_two': 0.3469545114550672, 'dropout_dense_block_one': 0.38973126822554893, 'dropout_dense_block_two': 0.6026745996114968}\n",
            "accuracy=0.9736961722373962\n",
            "{'batch_size': 120.0, 'dropout_cnn_block_one': 0.3349695519568521, 'dropout_cnn_block_three': 0.4495582158913516, 'dropout_cnn_block_two': 0.3623959978628983, 'dropout_dense_block_one': 0.4949717601048039, 'dropout_dense_block_two': 0.6673365138865134}\n",
            "accuracy=0.9154195189476013\n",
            "{'batch_size': 120.0, 'dropout_cnn_block_one': 0.33060829000828784, 'dropout_cnn_block_three': 0.42147696561518966, 'dropout_cnn_block_two': 0.3051085903166275, 'dropout_dense_block_one': 0.5247601537717076, 'dropout_dense_block_two': 0.6351403367852668}\n",
            "accuracy=0.9591836929321289\n",
            "{'batch_size': 100.0, 'dropout_cnn_block_one': 0.3263339574479026, 'dropout_cnn_block_three': 0.4165050229028861, 'dropout_cnn_block_two': 0.3035063216878022, 'dropout_dense_block_one': 0.5300921352524128, 'dropout_dense_block_two': 0.642431287629281}\n",
            "accuracy=0.9678004384040833\n",
            "{'batch_size': 100.0, 'dropout_cnn_block_one': 0.3700821043970054, 'dropout_cnn_block_three': 0.3519265921971333, 'dropout_cnn_block_two': 0.3184475560990945, 'dropout_dense_block_one': 0.46662348387282554, 'dropout_dense_block_two': 0.6941560703433448}\n",
            "accuracy=0.9496598839759827\n",
            "{'batch_size': 110.0, 'dropout_cnn_block_one': 0.4169659439641322, 'dropout_cnn_block_three': 0.45297562193457513, 'dropout_cnn_block_two': 0.3667473980846123, 'dropout_dense_block_one': 0.4044537581099167, 'dropout_dense_block_two': 0.6500638190401135}\n",
            "accuracy=0.940362811088562\n",
            "{'batch_size': 110.0, 'dropout_cnn_block_one': 0.32577124659038686, 'dropout_cnn_block_three': 0.4115497844188394, 'dropout_cnn_block_two': 0.31679676569870036, 'dropout_dense_block_one': 0.5225454841952227, 'dropout_dense_block_two': 0.5312982167208801}\n",
            "accuracy=0.9662131667137146\n",
            "{'batch_size': 130.0, 'dropout_cnn_block_one': 0.37609833470214693, 'dropout_cnn_block_three': 0.3627249118335338, 'dropout_cnn_block_two': 0.35865941790273215, 'dropout_dense_block_one': 0.3879950638844665, 'dropout_dense_block_two': 0.5886101079838496}\n",
            "accuracy=0.8662131428718567\n",
            "{'batch_size': 170.0, 'dropout_cnn_block_one': 0.35423453372053637, 'dropout_cnn_block_three': 0.44299620084518077, 'dropout_cnn_block_two': 0.3760578572710808, 'dropout_dense_block_one': 0.5650107487720628, 'dropout_dense_block_two': 0.5583597720092712}\n",
            "accuracy=0.9480725526809692\n",
            "{'batch_size': 100.0, 'dropout_cnn_block_one': 0.3445769308523615, 'dropout_cnn_block_three': 0.4706896847669822, 'dropout_cnn_block_two': 0.3011571382586094, 'dropout_dense_block_one': 0.3020801412123877, 'dropout_dense_block_two': 0.6108427180686127}\n",
            "accuracy=0.91700679063797\n",
            "{'batch_size': 130.0, 'dropout_cnn_block_one': 0.3478211882615662, 'dropout_cnn_block_three': 0.4212169379351446, 'dropout_cnn_block_two': 0.3320286262140473, 'dropout_dense_block_one': 0.4660819710818334, 'dropout_dense_block_two': 0.6585771728289211}\n",
            "accuracy=0.9401360750198364\n",
            "100%|██████████| 30/30 [07:47<00:00, 15.59s/it, best loss: -0.9736961722373962]\n"
          ],
          "name": "stdout"
        }
      ]
    },
    {
      "cell_type": "code",
      "metadata": {
        "id": "PB7TSdgukVVn",
        "colab_type": "code",
        "colab": {}
      },
      "source": [
        "space = {\n",
        "    'batch_size': hp.quniform('batch_size', 100,200,10),\n",
        "    'dropout_cnn_block_one': hp.uniform('dropout_cnn_block_one',0.3,0.5),\n",
        "    'dropout_cnn_block_two': hp.uniform('dropout_cnn_block_two',0.3,0.5),\n",
        "    'dropout_cnn_block_three': hp.uniform('dropout_cnn_block_three',0.3,0.5),\n",
        "\n",
        "    'dropout_dense_block_one': hp.uniform('dropout_dense_block_one',0.3,0.7),\n",
        "    'dropout_dense_block_two': hp.uniform('dropout_dense_block_two',0.3,0.7),\n",
        "}"
      ],
      "execution_count": 0,
      "outputs": []
    },
    {
      "cell_type": "code",
      "metadata": {
        "id": "I4axYjc8si65",
        "colab_type": "code",
        "colab": {
          "base_uri": "https://localhost:8080/",
          "height": 1000
        },
        "outputId": "14f9f360-bd4c-4067-ffad-3ec34c332dc7"
      },
      "source": [
        "best= fmin(\n",
        "    func_obj,\n",
        "    space,\n",
        "    tpe.suggest,\n",
        "    30,\n",
        "    Trials()\n",
        ")"
      ],
      "execution_count": 51,
      "outputs": [
        {
          "output_type": "stream",
          "text": [
            "{'batch_size': 100.0, 'dropout_cnn_block_one': 0.5, 'dropout_cnn_block_three': 0.5, 'dropout_cnn_block_two': 0.5, 'dropout_dense_block_one': 0.5, 'dropout_dense_block_two': 0.5}\n",
            "accuracy=0.8698412775993347\n",
            "{'batch_size': 120.0, 'dropout_cnn_block_one': 0.5, 'dropout_cnn_block_three': 0.5, 'dropout_cnn_block_two': 0.5, 'dropout_dense_block_one': 0.5, 'dropout_dense_block_two': 0.5}\n",
            "accuracy=0.8761904835700989\n",
            "{'batch_size': 180.0, 'dropout_cnn_block_one': 0.5, 'dropout_cnn_block_three': 0.5, 'dropout_cnn_block_two': 0.5, 'dropout_dense_block_one': 0.5, 'dropout_dense_block_two': 0.5}\n",
            "accuracy=0.8285714387893677\n",
            "{'batch_size': 180.0, 'dropout_cnn_block_one': 0.5, 'dropout_cnn_block_three': 0.5, 'dropout_cnn_block_two': 0.5, 'dropout_dense_block_one': 0.5, 'dropout_dense_block_two': 0.5}\n",
            "accuracy=0.6517006754875183\n",
            "{'batch_size': 60.0, 'dropout_cnn_block_one': 0.5, 'dropout_cnn_block_three': 0.5, 'dropout_cnn_block_two': 0.5, 'dropout_dense_block_one': 0.5, 'dropout_dense_block_two': 0.5}\n",
            "accuracy=0.8147392272949219\n",
            "{'batch_size': 200.0, 'dropout_cnn_block_one': 0.5, 'dropout_cnn_block_three': 0.5, 'dropout_cnn_block_two': 0.5, 'dropout_dense_block_one': 0.5, 'dropout_dense_block_two': 0.5}\n",
            "accuracy=0.8133786916732788\n",
            "{'batch_size': 120.0, 'dropout_cnn_block_one': 0.5, 'dropout_cnn_block_three': 0.5, 'dropout_cnn_block_two': 0.5, 'dropout_dense_block_one': 0.5, 'dropout_dense_block_two': 0.5}\n",
            "accuracy=0.8657596111297607\n",
            "{'batch_size': 180.0, 'dropout_cnn_block_one': 0.5, 'dropout_cnn_block_three': 0.5, 'dropout_cnn_block_two': 0.5, 'dropout_dense_block_one': 0.5, 'dropout_dense_block_two': 0.5}\n",
            "accuracy=0.714739203453064\n",
            "{'batch_size': 160.0, 'dropout_cnn_block_one': 0.5, 'dropout_cnn_block_three': 0.5, 'dropout_cnn_block_two': 0.5, 'dropout_dense_block_one': 0.5, 'dropout_dense_block_two': 0.5}\n",
            "accuracy=0.4267573654651642\n",
            "{'batch_size': 180.0, 'dropout_cnn_block_one': 0.5, 'dropout_cnn_block_three': 0.5, 'dropout_cnn_block_two': 0.5, 'dropout_dense_block_one': 0.5, 'dropout_dense_block_two': 0.5}\n",
            "accuracy=0.837188184261322\n",
            "{'batch_size': 60.0, 'dropout_cnn_block_one': 0.5, 'dropout_cnn_block_three': 0.5, 'dropout_cnn_block_two': 0.5, 'dropout_dense_block_one': 0.5, 'dropout_dense_block_two': 0.5}\n",
            "accuracy=0.7061224579811096\n",
            "{'batch_size': 120.0, 'dropout_cnn_block_one': 0.5, 'dropout_cnn_block_three': 0.5, 'dropout_cnn_block_two': 0.5, 'dropout_dense_block_one': 0.5, 'dropout_dense_block_two': 0.5}\n",
            "accuracy=0.8707482814788818\n",
            "{'batch_size': 60.0, 'dropout_cnn_block_one': 0.5, 'dropout_cnn_block_three': 0.5, 'dropout_cnn_block_two': 0.5, 'dropout_dense_block_one': 0.5, 'dropout_dense_block_two': 0.5}\n",
            "accuracy=0.8795918226242065\n",
            "{'batch_size': 160.0, 'dropout_cnn_block_one': 0.5, 'dropout_cnn_block_three': 0.5, 'dropout_cnn_block_two': 0.5, 'dropout_dense_block_one': 0.5, 'dropout_dense_block_two': 0.5}\n",
            "accuracy=0.8387755155563354\n",
            "{'batch_size': 140.0, 'dropout_cnn_block_one': 0.5, 'dropout_cnn_block_three': 0.5, 'dropout_cnn_block_two': 0.5, 'dropout_dense_block_one': 0.5, 'dropout_dense_block_two': 0.5}\n",
            "accuracy=0.8882086277008057\n",
            "{'batch_size': 60.0, 'dropout_cnn_block_one': 0.5, 'dropout_cnn_block_three': 0.5, 'dropout_cnn_block_two': 0.5, 'dropout_dense_block_one': 0.5, 'dropout_dense_block_two': 0.5}\n",
            "accuracy=0.7589569091796875\n",
            "{'batch_size': 160.0, 'dropout_cnn_block_one': 0.5, 'dropout_cnn_block_three': 0.5, 'dropout_cnn_block_two': 0.5, 'dropout_dense_block_one': 0.5, 'dropout_dense_block_two': 0.5}\n",
            "accuracy=0.5743764042854309\n",
            "{'batch_size': 60.0, 'dropout_cnn_block_one': 0.5, 'dropout_cnn_block_three': 0.5, 'dropout_cnn_block_two': 0.5, 'dropout_dense_block_one': 0.5, 'dropout_dense_block_two': 0.5}\n",
            "accuracy=0.774376392364502\n",
            "{'batch_size': 80.0, 'dropout_cnn_block_one': 0.5, 'dropout_cnn_block_three': 0.5, 'dropout_cnn_block_two': 0.5, 'dropout_dense_block_one': 0.5, 'dropout_dense_block_two': 0.5}\n",
            "accuracy=0.7709750533103943\n",
            "{'batch_size': 60.0, 'dropout_cnn_block_one': 0.5, 'dropout_cnn_block_three': 0.5, 'dropout_cnn_block_two': 0.5, 'dropout_dense_block_one': 0.5, 'dropout_dense_block_two': 0.5}\n",
            "accuracy=0.8140589594841003\n",
            "{'batch_size': 140.0, 'dropout_cnn_block_one': 0.5, 'dropout_cnn_block_three': 0.5, 'dropout_cnn_block_two': 0.5, 'dropout_dense_block_one': 0.5, 'dropout_dense_block_two': 0.5}\n",
            "accuracy=0.9208616614341736\n",
            "{'batch_size': 140.0, 'dropout_cnn_block_one': 0.5, 'dropout_cnn_block_three': 0.5, 'dropout_cnn_block_two': 0.5, 'dropout_dense_block_one': 0.5, 'dropout_dense_block_two': 0.5}\n",
            "accuracy=0.6090703010559082\n",
            "{'batch_size': 140.0, 'dropout_cnn_block_one': 0.5, 'dropout_cnn_block_three': 0.5, 'dropout_cnn_block_two': 0.5, 'dropout_dense_block_one': 0.5, 'dropout_dense_block_two': 0.5}\n",
            "accuracy=0.7344671487808228\n",
            "{'batch_size': 100.0, 'dropout_cnn_block_one': 0.5, 'dropout_cnn_block_three': 0.5, 'dropout_cnn_block_two': 0.5, 'dropout_dense_block_one': 0.5, 'dropout_dense_block_two': 0.5}\n",
            "accuracy=0.8485260605812073\n",
            "{'batch_size': 140.0, 'dropout_cnn_block_one': 0.5, 'dropout_cnn_block_three': 0.5, 'dropout_cnn_block_two': 0.5, 'dropout_dense_block_one': 0.5, 'dropout_dense_block_two': 0.5}\n",
            "accuracy=0.7673469185829163\n",
            "{'batch_size': 100.0, 'dropout_cnn_block_one': 0.5, 'dropout_cnn_block_three': 0.5, 'dropout_cnn_block_two': 0.5, 'dropout_dense_block_one': 0.5, 'dropout_dense_block_two': 0.5}\n",
            "accuracy=0.8054421544075012\n",
            "{'batch_size': 140.0, 'dropout_cnn_block_one': 0.5, 'dropout_cnn_block_three': 0.5, 'dropout_cnn_block_two': 0.5, 'dropout_dense_block_one': 0.5, 'dropout_dense_block_two': 0.5}\n",
            "accuracy=0.759637176990509\n",
            "{'batch_size': 200.0, 'dropout_cnn_block_one': 0.5, 'dropout_cnn_block_three': 0.5, 'dropout_cnn_block_two': 0.5, 'dropout_dense_block_one': 0.5, 'dropout_dense_block_two': 0.5}\n",
            "accuracy=0.6750566959381104\n",
            "{'batch_size': 80.0, 'dropout_cnn_block_one': 0.5, 'dropout_cnn_block_three': 0.5, 'dropout_cnn_block_two': 0.5, 'dropout_dense_block_one': 0.5, 'dropout_dense_block_two': 0.5}\n",
            "accuracy=0.8557823300361633\n",
            "{'batch_size': 160.0, 'dropout_cnn_block_one': 0.5, 'dropout_cnn_block_three': 0.5, 'dropout_cnn_block_two': 0.5, 'dropout_dense_block_one': 0.5, 'dropout_dense_block_two': 0.5}\n",
            "accuracy=0.7616779804229736\n",
            "100%|██████████| 30/30 [07:55<00:00, 15.85s/it, best loss: -0.9208616614341736]\n"
          ],
          "name": "stdout"
        }
      ]
    },
    {
      "cell_type": "code",
      "metadata": {
        "id": "QJdEhBhGtpjs",
        "colab_type": "code",
        "colab": {}
      },
      "source": [
        ""
      ],
      "execution_count": 0,
      "outputs": []
    }
  ]
}